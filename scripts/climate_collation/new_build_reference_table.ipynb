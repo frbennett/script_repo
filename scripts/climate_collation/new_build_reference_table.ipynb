{
 "cells": [
  {
   "attachments": {
    "image-2.png": {
     "image/png": "[encoded data removed]"
    }
   },
   "cell_type": "markdown",
   "id": "83502043",
   "metadata": {},
   "source": [
    "> ## <span style=\"font-size:34px; color:#00b8d4; vertical-align:middle;\">&#128196;</span> <strong style=\"color:#00b8d4; font-size:28px;\">Build Reference Table</strong>\n",
    "> <span style=\"color:#757575; font-size:14px; display:block; margin-top:4px;\">build a geospatial reference table for subsequent climate collation</span>\n",
    "> <br/>\n",
    "> <strong style=\"color:#37474f;\">Description:</strong> \n",
    "> <br/><br/>\n",
    "> <strong>Authors:</strong> Frederick Bennett &nbsp;&nbsp; <strong>Date:</strong> 21-08-2025 &nbsp;&nbsp; <strong>Version:</strong> 0.5\n",
    "> <br/><br/>\n",
    "> <strong>Kernel / Env:</strong> \n",
    "> <br/><br/>\n",
    "> <strong>Status:</strong> \n",
    "> <br/><br/>\n",
    "> <strong>Run instructions:</strong> This script uses two shapefiles to produce a CSV table that looks like this\n",
    "> <br/>\n",
    "> ![image-2.png](attachment:image-2.png) <br/><br/>\n",
    "> All the geospatial data is transformed to **EPSG:3577** which is a coordinate reference system (CRS) code that represents the **Australian Albers Equal Area Conic projection**. This projection is designed to minimize distortion of area, making it particularly useful for mapping and spatial analysis in Australia. This CRS seems to be the one that [SILO](https://www.longpaddock.qld.gov.au/silo/) uses for its gridded data. \n",
    "> <br/><br/>\n",
    "> <strong>Contact:</strong> frederick.bennett@detsi.qld.gov.au\n",
    "> <br/><br/>\n",
    "> "
   ]
  },
  {
   "cell_type": "code",
   "execution_count": 1,
   "id": "1d58150b-eb97-4678-a7f6-20c26e7eb1a1",
   "metadata": {
    "tags": []
   },
   "outputs": [],
   "source": [
    "\n",
    "import pandas as pd\n",
    "import geopandas as gpd\n"
   ]
  },
  {
   "cell_type": "code",
   "execution_count": 2,
   "id": "329a15c4-e0e8-4e27-a9fc-b4316f0c9879",
   "metadata": {},
   "outputs": [],
   "source": [
    "#climate_grid = 'E:/My Drive/Work Projects/Climate_Collation_Script/shapefiles/climate_grid/Fishnet_AUS_ClimateGrid.shp'\n",
    "#subcatchments = 'E:/My Drive/Work Projects/Climate_Collation_Script/shapefiles/GBR_Subcats/Catchment_Shp/'\n",
    "\n",
    "\n",
    "climate_grid = 'D:/gdrive/My Drive/Work Projects/Climate_Collation_Script/shapefiles/climate_grid/Fishnet_AUS_ClimateGrid.shp'\n",
    "subcatchments = 'D:/gdrive/My Drive/Work Projects/Climate_Collation_Script/shapefiles/GBR_Subcats/Catchment_Shp/'\n"
   ]
  },
  {
   "cell_type": "code",
   "execution_count": 5,
   "id": "0f23967a-8c3c-4265-bd87-8d3b84cc9eef",
   "metadata": {},
   "outputs": [
    {
     "name": "stdout",
     "output_type": "stream",
     "text": [
      "CRS for shapefile  EPSG:4326\n",
      "The climate grid shapefile has to be transposed to EPSG:3577\n",
      "Completed conversion to  EPSG:3577\n"
     ]
    }
   ],
   "source": [
    "climate_grid_df = gpd.read_file(climate_grid)\n",
    "current_crs = climate_grid_df.crs\n",
    "print('CRS for shapefile ', climate_grid_df.crs)\n",
    "\n",
    "if climate_grid_df.crs != \"EPSG:3577\" :\n",
    "    print('The climate grid shapefile has to be transposed to EPSG:3577' )\n",
    "    climate_grid_trans = climate_grid_df.to_crs(\"EPSG:3577\")\n",
    "    print('Completed conversion to ',climate_grid_trans.crs)"
   ]
  },
  {
   "cell_type": "code",
   "execution_count": 10,
   "id": "52a79572",
   "metadata": {},
   "outputs": [
    {
     "data": {
      "text/plain": [
       "'E:/My Drive/Work Projects/Climate_Collation_Script/shapefiles/GBR_Subcats/Catchment_Shp/BM/Catchmt.shp'"
      ]
     },
     "execution_count": 10,
     "metadata": {},
     "output_type": "execute_result"
    }
   ],
   "source": [
    "region = 'BM'\n",
    "\n",
    "region_shp = subcatchments + region + '/Catchmt.shp'\n",
    "\n",
    "region_shp"
   ]
  },
  {
   "cell_type": "code",
   "execution_count": 19,
   "id": "300897d1",
   "metadata": {},
   "outputs": [],
   "source": [
    "subcatchments_df['region'] = region"
   ]
  },
  {
   "cell_type": "code",
   "execution_count": 20,
   "id": "9edef221",
   "metadata": {},
   "outputs": [
    {
     "data": {
      "text/html": [
       "<div>\n",
       "<style scoped>\n",
       "    .dataframe tbody tr th:only-of-type {\n",
       "        vertical-align: middle;\n",
       "    }\n",
       "\n",
       "    .dataframe tbody tr th {\n",
       "        vertical-align: top;\n",
       "    }\n",
       "\n",
       "    .dataframe thead th {\n",
       "        text-align: right;\n",
       "    }\n",
       "</style>\n",
       "<table border=\"1\" class=\"dataframe\">\n",
       "  <thead>\n",
       "    <tr style=\"text-align: right;\">\n",
       "      <th></th>\n",
       "      <th>Catchmt</th>\n",
       "      <th>geometry</th>\n",
       "      <th>region</th>\n",
       "    </tr>\n",
       "  </thead>\n",
       "  <tbody>\n",
       "    <tr>\n",
       "      <th>0</th>\n",
       "      <td>SC #90650</td>\n",
       "      <td>POLYGON ((1943278.631 -2730940.469, 1943338.63...</td>\n",
       "      <td>BM</td>\n",
       "    </tr>\n",
       "    <tr>\n",
       "      <th>1</th>\n",
       "      <td>SC #90653</td>\n",
       "      <td>POLYGON ((1968448.631 -2739070.469, 1968628.63...</td>\n",
       "      <td>BM</td>\n",
       "    </tr>\n",
       "    <tr>\n",
       "      <th>2</th>\n",
       "      <td>SC #90651</td>\n",
       "      <td>POLYGON ((1949488.631 -2742100.469, 1949488.63...</td>\n",
       "      <td>BM</td>\n",
       "    </tr>\n",
       "    <tr>\n",
       "      <th>3</th>\n",
       "      <td>SC #90652</td>\n",
       "      <td>POLYGON ((1961428.631 -2745100.469, 1961488.63...</td>\n",
       "      <td>BM</td>\n",
       "    </tr>\n",
       "    <tr>\n",
       "      <th>4</th>\n",
       "      <td>SC #1</td>\n",
       "      <td>POLYGON ((1949368.631 -2748760.469, 1949458.63...</td>\n",
       "      <td>BM</td>\n",
       "    </tr>\n",
       "    <tr>\n",
       "      <th>...</th>\n",
       "      <td>...</td>\n",
       "      <td>...</td>\n",
       "      <td>...</td>\n",
       "    </tr>\n",
       "    <tr>\n",
       "      <th>677</th>\n",
       "      <td>SC #511</td>\n",
       "      <td>POLYGON ((2026498.631 -3049210.469, 2026498.63...</td>\n",
       "      <td>BM</td>\n",
       "    </tr>\n",
       "    <tr>\n",
       "      <th>678</th>\n",
       "      <td>SC #157</td>\n",
       "      <td>POLYGON ((1927408.631 -3049540.469, 1927438.63...</td>\n",
       "      <td>BM</td>\n",
       "    </tr>\n",
       "    <tr>\n",
       "      <th>679</th>\n",
       "      <td>SC #681</td>\n",
       "      <td>POLYGON ((2042728.631 -3051730.469, 2042788.63...</td>\n",
       "      <td>BM</td>\n",
       "    </tr>\n",
       "    <tr>\n",
       "      <th>680</th>\n",
       "      <td>SC #156</td>\n",
       "      <td>POLYGON ((1932778.631 -3052660.469, 1932898.63...</td>\n",
       "      <td>BM</td>\n",
       "    </tr>\n",
       "    <tr>\n",
       "      <th>681</th>\n",
       "      <td>SC #595</td>\n",
       "      <td>POLYGON ((2042008.631 -3060220.469, 2042008.63...</td>\n",
       "      <td>BM</td>\n",
       "    </tr>\n",
       "  </tbody>\n",
       "</table>\n",
       "<p>682 rows × 3 columns</p>\n",
       "</div>"
      ],
      "text/plain": [
       "       Catchmt                                           geometry region\n",
       "0    SC #90650  POLYGON ((1943278.631 -2730940.469, 1943338.63...     BM\n",
       "1    SC #90653  POLYGON ((1968448.631 -2739070.469, 1968628.63...     BM\n",
       "2    SC #90651  POLYGON ((1949488.631 -2742100.469, 1949488.63...     BM\n",
       "3    SC #90652  POLYGON ((1961428.631 -2745100.469, 1961488.63...     BM\n",
       "4        SC #1  POLYGON ((1949368.631 -2748760.469, 1949458.63...     BM\n",
       "..         ...                                                ...    ...\n",
       "677    SC #511  POLYGON ((2026498.631 -3049210.469, 2026498.63...     BM\n",
       "678    SC #157  POLYGON ((1927408.631 -3049540.469, 1927438.63...     BM\n",
       "679    SC #681  POLYGON ((2042728.631 -3051730.469, 2042788.63...     BM\n",
       "680    SC #156  POLYGON ((1932778.631 -3052660.469, 1932898.63...     BM\n",
       "681    SC #595  POLYGON ((2042008.631 -3060220.469, 2042008.63...     BM\n",
       "\n",
       "[682 rows x 3 columns]"
      ]
     },
     "execution_count": 20,
     "metadata": {},
     "output_type": "execute_result"
    }
   ],
   "source": [
    "subcatchments_df"
   ]
  },
  {
   "cell_type": "code",
   "execution_count": null,
   "id": "1647fb00",
   "metadata": {},
   "outputs": [],
   "source": []
  },
  {
   "cell_type": "code",
   "execution_count": 12,
   "id": "bf829d89-8bdc-4251-aea5-31e5be33b1cf",
   "metadata": {},
   "outputs": [
    {
     "name": "stdout",
     "output_type": "stream",
     "text": [
      "CRS for shapefile  None\n"
     ]
    }
   ],
   "source": [
    "subcatchments_df = gpd.read_file(region_shp)\n",
    "current_crs = subcatchments_df.crs\n",
    "print('CRS for shapefile ', subcatchments_df.crs)\n",
    "\n",
    "subcatchments_df = subcatchments_df.set_crs(\"EPSG:3577\")\n"
   ]
  },
  {
   "cell_type": "code",
   "execution_count": null,
   "id": "c32d1659",
   "metadata": {},
   "outputs": [],
   "source": []
  },
  {
   "cell_type": "code",
   "execution_count": 6,
   "id": "eeef172f-3af1-415b-9f34-e5ba3c5ce743",
   "metadata": {},
   "outputs": [],
   "source": [
    "def get_areas(subcatchment, region):\n",
    "    dictionary_list = []\n",
    "    subcat_idx = subcatchments_df.query(\"Catchmt == @subcatchment\").index[0]\n",
    "\n",
    "    sub = subcatchments_df.iloc[subcat_idx]['geometry'].buffer(0) \n",
    "    intersections = sub.intersects(climate_grid_trans['geometry'])\n",
    "\n",
    "    sub_area = sub.area\n",
    "\n",
    "    ref_areas = 0\n",
    "    for i in intersections.index :\n",
    "        if intersections[i] ==  True :\n",
    "            record = {}\n",
    "            the_intersection = sub.intersection(climate_grid_trans.iloc[i].geometry)\n",
    "            ref_poly = climate_grid_trans.iloc[i].geometry\n",
    "            area_prop = the_intersection.area/sub_area\n",
    "            ref_areas += the_intersection.area\n",
    "            xy = climate_grid_df.iloc[i].geometry.centroid\n",
    "\n",
    "            record['subcatchment'] = subcatchment\n",
    "            record['region'] = region\n",
    "            record['subcat_area'] = sub_area\n",
    "            \n",
    "            record['grid_index'] = i\n",
    "            record['grid_weight'] = area_prop\n",
    "            record['x'] = xy.x\n",
    "            record['y'] = xy.y\n",
    "            \n",
    "\n",
    "            dictionary_list.append(record)\n",
    "    return dictionary_list"
   ]
  },
  {
   "cell_type": "code",
   "execution_count": 7,
   "id": "05cec9ed",
   "metadata": {},
   "outputs": [
    {
     "name": "stdout",
     "output_type": "stream",
     "text": [
      "running process for BM\n",
      "CRS for shapefile  None\n",
      "running process for BU\n",
      "CRS for shapefile  None\n",
      "running process for FI\n",
      "CRS for shapefile  None\n",
      "running process for MW\n",
      "CRS for shapefile  None\n",
      "running process for CY\n",
      "CRS for shapefile  None\n",
      "running process for WT\n",
      "CRS for shapefile  None\n"
     ]
    }
   ],
   "source": [
    "result_list = []\n",
    "\n",
    "regions = ['BM', 'BU', 'FI', 'MW', 'CY', 'WT']\n",
    "for region in regions:\n",
    "    print('running process for ' + region)\n",
    "    region_shp = subcatchments + region + '/Catchmt.shp'\n",
    "    subcatchments_df = gpd.read_file(region_shp)\n",
    "    current_crs = subcatchments_df.crs\n",
    "    print('CRS for shapefile ', subcatchments_df.crs)\n",
    "\n",
    "    subcatchments_df = subcatchments_df.set_crs(\"EPSG:3577\")\n",
    "\n",
    "    subcat_list = subcatchments_df['Catchmt'].to_list()\n",
    "    \n",
    "    for subcat in subcat_list :\n",
    "        result_list += get_areas(subcat, region)"
   ]
  },
  {
   "cell_type": "code",
   "execution_count": 8,
   "id": "becc42fb-0b34-4df5-9900-a033d5674322",
   "metadata": {},
   "outputs": [],
   "source": [
    "reference_table = pd.DataFrame(result_list)"
   ]
  },
  {
   "cell_type": "code",
   "execution_count": 9,
   "id": "e1828bdc-de56-4095-b481-8821ca6c3c79",
   "metadata": {},
   "outputs": [],
   "source": [
    "reference_table.to_csv('reference_table.csv', index=False)"
   ]
  },
  {
   "cell_type": "code",
   "execution_count": 8,
   "id": "96b4f30c",
   "metadata": {},
   "outputs": [
    {
     "data": {
      "text/html": [
       "<div>\n",
       "<style scoped>\n",
       "    .dataframe tbody tr th:only-of-type {\n",
       "        vertical-align: middle;\n",
       "    }\n",
       "\n",
       "    .dataframe tbody tr th {\n",
       "        vertical-align: top;\n",
       "    }\n",
       "\n",
       "    .dataframe thead th {\n",
       "        text-align: right;\n",
       "    }\n",
       "</style>\n",
       "<table border=\"1\" class=\"dataframe\">\n",
       "  <thead>\n",
       "    <tr style=\"text-align: right;\">\n",
       "      <th></th>\n",
       "      <th>subcatchment</th>\n",
       "      <th>region</th>\n",
       "      <th>subcat_area</th>\n",
       "      <th>grid_index</th>\n",
       "      <th>grid_weight</th>\n",
       "      <th>x</th>\n",
       "      <th>y</th>\n",
       "    </tr>\n",
       "  </thead>\n",
       "  <tbody>\n",
       "    <tr>\n",
       "      <th>0</th>\n",
       "      <td>SC #90650</td>\n",
       "      <td>BM</td>\n",
       "      <td>68811300.0</td>\n",
       "      <td>168776</td>\n",
       "      <td>0.037022</td>\n",
       "      <td>151.40</td>\n",
       "      <td>-24.10</td>\n",
       "    </tr>\n",
       "    <tr>\n",
       "      <th>1</th>\n",
       "      <td>SC #90650</td>\n",
       "      <td>BM</td>\n",
       "      <td>68811300.0</td>\n",
       "      <td>168777</td>\n",
       "      <td>0.058544</td>\n",
       "      <td>151.45</td>\n",
       "      <td>-24.10</td>\n",
       "    </tr>\n",
       "    <tr>\n",
       "      <th>2</th>\n",
       "      <td>SC #90650</td>\n",
       "      <td>BM</td>\n",
       "      <td>68811300.0</td>\n",
       "      <td>169545</td>\n",
       "      <td>0.270865</td>\n",
       "      <td>151.40</td>\n",
       "      <td>-24.05</td>\n",
       "    </tr>\n",
       "    <tr>\n",
       "      <th>3</th>\n",
       "      <td>SC #90650</td>\n",
       "      <td>BM</td>\n",
       "      <td>68811300.0</td>\n",
       "      <td>169546</td>\n",
       "      <td>0.062244</td>\n",
       "      <td>151.45</td>\n",
       "      <td>-24.05</td>\n",
       "    </tr>\n",
       "    <tr>\n",
       "      <th>4</th>\n",
       "      <td>SC #90650</td>\n",
       "      <td>BM</td>\n",
       "      <td>68811300.0</td>\n",
       "      <td>170311</td>\n",
       "      <td>0.046704</td>\n",
       "      <td>151.35</td>\n",
       "      <td>-24.00</td>\n",
       "    </tr>\n",
       "    <tr>\n",
       "      <th>...</th>\n",
       "      <td>...</td>\n",
       "      <td>...</td>\n",
       "      <td>...</td>\n",
       "      <td>...</td>\n",
       "      <td>...</td>\n",
       "      <td>...</td>\n",
       "      <td>...</td>\n",
       "    </tr>\n",
       "    <tr>\n",
       "      <th>46662</th>\n",
       "      <td>SC #388</td>\n",
       "      <td>WT</td>\n",
       "      <td>31701600.0</td>\n",
       "      <td>237147</td>\n",
       "      <td>0.321665</td>\n",
       "      <td>146.25</td>\n",
       "      <td>-18.95</td>\n",
       "    </tr>\n",
       "    <tr>\n",
       "      <th>46663</th>\n",
       "      <td>SC #388</td>\n",
       "      <td>WT</td>\n",
       "      <td>31701600.0</td>\n",
       "      <td>237148</td>\n",
       "      <td>0.124753</td>\n",
       "      <td>146.30</td>\n",
       "      <td>-18.95</td>\n",
       "    </tr>\n",
       "    <tr>\n",
       "      <th>46664</th>\n",
       "      <td>SC #388</td>\n",
       "      <td>WT</td>\n",
       "      <td>31701600.0</td>\n",
       "      <td>237643</td>\n",
       "      <td>0.243880</td>\n",
       "      <td>146.25</td>\n",
       "      <td>-18.90</td>\n",
       "    </tr>\n",
       "    <tr>\n",
       "      <th>46665</th>\n",
       "      <td>SC #388</td>\n",
       "      <td>WT</td>\n",
       "      <td>31701600.0</td>\n",
       "      <td>237644</td>\n",
       "      <td>0.306646</td>\n",
       "      <td>146.30</td>\n",
       "      <td>-18.90</td>\n",
       "    </tr>\n",
       "    <tr>\n",
       "      <th>46666</th>\n",
       "      <td>SC #388</td>\n",
       "      <td>WT</td>\n",
       "      <td>31701600.0</td>\n",
       "      <td>238139</td>\n",
       "      <td>0.000024</td>\n",
       "      <td>146.30</td>\n",
       "      <td>-18.85</td>\n",
       "    </tr>\n",
       "  </tbody>\n",
       "</table>\n",
       "<p>46667 rows × 7 columns</p>\n",
       "</div>"
      ],
      "text/plain": [
       "      subcatchment region  subcat_area  grid_index  grid_weight       x      y\n",
       "0        SC #90650     BM   68811300.0      168776     0.037022  151.40 -24.10\n",
       "1        SC #90650     BM   68811300.0      168777     0.058544  151.45 -24.10\n",
       "2        SC #90650     BM   68811300.0      169545     0.270865  151.40 -24.05\n",
       "3        SC #90650     BM   68811300.0      169546     0.062244  151.45 -24.05\n",
       "4        SC #90650     BM   68811300.0      170311     0.046704  151.35 -24.00\n",
       "...            ...    ...          ...         ...          ...     ...    ...\n",
       "46662      SC #388     WT   31701600.0      237147     0.321665  146.25 -18.95\n",
       "46663      SC #388     WT   31701600.0      237148     0.124753  146.30 -18.95\n",
       "46664      SC #388     WT   31701600.0      237643     0.243880  146.25 -18.90\n",
       "46665      SC #388     WT   31701600.0      237644     0.306646  146.30 -18.90\n",
       "46666      SC #388     WT   31701600.0      238139     0.000024  146.30 -18.85\n",
       "\n",
       "[46667 rows x 7 columns]"
      ]
     },
     "execution_count": 8,
     "metadata": {},
     "output_type": "execute_result"
    }
   ],
   "source": [
    "reference_table"
   ]
  },
  {
   "cell_type": "code",
   "execution_count": null,
   "id": "4349f0c5",
   "metadata": {},
   "outputs": [],
   "source": []
  }
 ],
 "metadata": {
  "kernelspec": {
   "display_name": "dev_env",
   "language": "python",
   "name": "python3"
  },
  "language_info": {
   "codemirror_mode": {
    "name": "ipython",
    "version": 3
   },
   "file_extension": ".py",
   "mimetype": "text/x-python",
   "name": "python",
   "nbconvert_exporter": "python",
   "pygments_lexer": "ipython3",
   "version": "3.13.5"
  }
 },
 "nbformat": 4,
 "nbformat_minor": 5
}
